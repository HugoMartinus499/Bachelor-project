{
 "cells": [
  {
   "cell_type": "markdown",
   "metadata": {},
   "source": [
    "# Data Analysis for Voting"
   ]
  },
  {
   "cell_type": "markdown",
   "metadata": {},
   "source": [
    "Import modules"
   ]
  },
  {
   "cell_type": "code",
   "execution_count": 9,
   "metadata": {},
   "outputs": [],
   "source": [
    "import pandas as pd\n",
    "import os\n",
    "import matplotlib as mpl\n",
    "import numpy as np"
   ]
  },
  {
   "cell_type": "markdown",
   "metadata": {},
   "source": [
    "Import all the results from the voting ABM and add a column with the sim number"
   ]
  },
  {
   "cell_type": "code",
   "execution_count": 10,
   "metadata": {},
   "outputs": [],
   "source": [
    "base_dir = \"C:/Users/hugov/Github/Bachelor-project/Data/Voting_results\"\n",
    "\n",
    "# Define the ranges for the file names\n",
    "range_1 = range(1, 26)\n",
    "range_2 = [500]\n",
    "\n",
    "# Dictionary to store the data frames\n",
    "voting_results = {}\n",
    "\n",
    "# Loop over the ranges and read the files dynamically\n",
    "for i in range_1:\n",
    "    for j in range_2:\n",
    "        # Construct the file name\n",
    "        file_name = f\"voting_results{i}_{j}.csv\"\n",
    "        file_path = os.path.join(base_dir, file_name)\n",
    "        \n",
    "        # Read the CSV file and store it in the dictionary\n",
    "        if os.path.exists(file_path):\n",
    "            data_name = f\"voting_results{i}_{j}\"\n",
    "            df = pd.read_csv(file_path)\n",
    "            df[\"sim\"] = i  # Add `i` as a column\n",
    "            voting_results[data_name] = df\n",
    "        else:\n",
    "            print(f\"File not found: {file_path}\")\n",
    "\n",
    "# Combine all DataFrames into one\n",
    "combined_voting_results = pd.concat(voting_results.values(), ignore_index=True)"
   ]
  },
  {
   "cell_type": "markdown",
   "metadata": {},
   "source": [
    "View example df"
   ]
  },
  {
   "cell_type": "code",
   "execution_count": null,
   "metadata": {},
   "outputs": [],
   "source": [
    "print(voting_results.get(\"voting_results1_500\"))\n"
   ]
  }
 ],
 "metadata": {
  "kernelspec": {
   "display_name": "Python 3",
   "language": "python",
   "name": "python3"
  },
  "language_info": {
   "codemirror_mode": {
    "name": "ipython",
    "version": 3
   },
   "file_extension": ".py",
   "mimetype": "text/x-python",
   "name": "python",
   "nbconvert_exporter": "python",
   "pygments_lexer": "ipython3",
   "version": "3.12.2"
  }
 },
 "nbformat": 4,
 "nbformat_minor": 2
}
